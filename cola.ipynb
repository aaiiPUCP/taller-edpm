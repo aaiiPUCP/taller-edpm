{
 "cells": [
  {
   "cell_type": "code",
   "execution_count": 1,
   "metadata": {},
   "outputs": [],
   "source": [
    "# ~ class Node(object):\n",
    "\t# ~ def __init__(self,data):\n",
    "\t\t# ~ self._data = data\n",
    "\t\t# ~ self._next = None\n",
    "\n",
    "class Cola(object):\n",
    "\tdef __init__(self):\n",
    "\t\tself._cola = []\n",
    "\tdef insertar(self,data):\n",
    "\t\tself._cola.append(data)\n",
    "\tdef borrar(self):\n",
    "\t\tif len(self._cola)==0: return\n",
    "\t\tself._cola.pop(0)\n",
    "\tdef contar(self):\n",
    "\t\treturn len(self._cola) \n",
    "\tdef imprimir(self):\n",
    "\t\tprint(\"Cola:\",self._cola)\n",
    "\t\tprint(\"Cantidad:\",self.contar())"
   ]
  },
  {
   "cell_type": "code",
   "execution_count": 2,
   "metadata": {},
   "outputs": [
    {
     "name": "stdout",
     "output_type": "stream",
     "text": [
      "Cola: [3, 4]\n",
      "Cantidad: 2\n"
     ]
    }
   ],
   "source": [
    "cola = Cola()\n",
    "cola.insertar(2)\n",
    "cola.insertar(3)\n",
    "cola.insertar(4)\n",
    "cola.borrar()\n",
    "cola.imprimir()"
   ]
  },
  {
   "cell_type": "code",
   "execution_count": null,
   "metadata": {},
   "outputs": [],
   "source": []
  }
 ],
 "metadata": {
  "kernelspec": {
   "display_name": "Python 3",
   "language": "python",
   "name": "python3"
  },
  "language_info": {
   "codemirror_mode": {
    "name": "ipython",
    "version": 3
   },
   "file_extension": ".py",
   "mimetype": "text/x-python",
   "name": "python",
   "nbconvert_exporter": "python",
   "pygments_lexer": "ipython3",
   "version": "3.6.4"
  }
 },
 "nbformat": 4,
 "nbformat_minor": 2
}
