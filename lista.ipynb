{
 "cells": [
  {
   "cell_type": "code",
   "execution_count": 1,
   "metadata": {},
   "outputs": [],
   "source": [
    "class Node(object):\n",
    "\tdef __init__(self,data):\n",
    "\t\tself._data = data\n",
    "\t\tself._next = None"
   ]
  },
  {
   "cell_type": "code",
   "execution_count": 2,
   "metadata": {},
   "outputs": [],
   "source": [
    "class List(object):\n",
    "\tdef __init__(self):\n",
    "\t\tself._first = self._last = None\n",
    "\tdef isEmpty(self):\n",
    "\t\treturn self._first==None\n",
    "\tdef insert_right(self,data):\n",
    "\t\tnode = Node(data)\n",
    "\t\tif self.isEmpty():\n",
    "\t\t\tself._first = node\n",
    "\t\telse:\n",
    "\t\t\tself._last._next = node\n",
    "\t\tself._last = node\n",
    "\tdef insert_left(self,data):\n",
    "\t\tnode = Node(data)\n",
    "\t\tif self.isEmpty():\n",
    "\t\t\tself._last = node\n",
    "\t\telse:\n",
    "\t\t\tnode._next = self._first\n",
    "\t\tself._first = node\n",
    "\tdef delete_left(self):\n",
    "\t\tif self.isEmpty(): return None\n",
    "\t\tif self._first == self._last: self._last = None\n",
    "\t\tself._first = self._first._next\n",
    "\tdef delete_right(self):\n",
    "\t\tif self.isEmpty(): return None\n",
    "\t\tif self._first == self._last: \n",
    "\t\t\tself._first = self._last = None\n",
    "\t\t\treturn\n",
    "\t\tprev = None\n",
    "\t\tact = self._first\n",
    "\t\twhile act._next!=None:\n",
    "\t\t\tprev = act\n",
    "\t\t\tact = act._next\n",
    "\t\tprev._next = None\n",
    "\t\tself._last = prev\n",
    "\tdef printList(self):\n",
    "\t\tnode = self._first\n",
    "\t\twhile node!=None:\n",
    "\t\t\tprint(node._data,end=\" \")\n",
    "\t\t\tnode = node._next\n",
    "\t\tprint()"
   ]
  },
  {
   "cell_type": "code",
   "execution_count": 3,
   "metadata": {},
   "outputs": [
    {
     "name": "stdout",
     "output_type": "stream",
     "text": [
      "AGREGADO POR LA DERECHA\n",
      "10 1 40 5 8 \n"
     ]
    }
   ],
   "source": [
    "l = List()\n",
    "print(\"AGREGADO POR LA DERECHA\")\n",
    "l.insert_right(10)\n",
    "l.insert_right(1)\n",
    "l.insert_right(40)\n",
    "l.insert_right(5)\n",
    "l.insert_right(8)\n",
    "l.printList()\n",
    "\n"
   ]
  },
  {
   "cell_type": "code",
   "execution_count": 4,
   "metadata": {},
   "outputs": [
    {
     "name": "stdout",
     "output_type": "stream",
     "text": [
      "AGREGADO POR LA IZQUIERDA\n",
      "-8 -5 -40 -11 10 1 40 5 8 \n"
     ]
    }
   ],
   "source": [
    "print(\"AGREGADO POR LA IZQUIERDA\")\n",
    "l.insert_left(-11)\n",
    "l.insert_left(-40)\n",
    "l.insert_left(-5)\n",
    "l.insert_left(-8)\n",
    "l.printList()\n"
   ]
  },
  {
   "cell_type": "code",
   "execution_count": 5,
   "metadata": {},
   "outputs": [
    {
     "name": "stdout",
     "output_type": "stream",
     "text": [
      "ELIMINA POR LA IZQUIERDA\n",
      "-5 -40 -11 10 1 40 5 8 \n"
     ]
    }
   ],
   "source": [
    "print(\"ELIMINA POR LA IZQUIERDA\")\n",
    "l.delete_left()\n",
    "l.printList()"
   ]
  },
  {
   "cell_type": "code",
   "execution_count": 6,
   "metadata": {},
   "outputs": [
    {
     "name": "stdout",
     "output_type": "stream",
     "text": [
      "ELIMINA POR LA DERECHA\n",
      "-5 -40 -11 10 1 40 5 \n"
     ]
    }
   ],
   "source": [
    "print(\"ELIMINA POR LA DERECHA\")\n",
    "l.delete_right()\n",
    "l.printList()"
   ]
  }
 ],
 "metadata": {
  "kernelspec": {
   "display_name": "Python 3",
   "language": "python",
   "name": "python3"
  },
  "language_info": {
   "codemirror_mode": {
    "name": "ipython",
    "version": 3
   },
   "file_extension": ".py",
   "mimetype": "text/x-python",
   "name": "python",
   "nbconvert_exporter": "python",
   "pygments_lexer": "ipython3",
   "version": "3.6.4"
  }
 },
 "nbformat": 4,
 "nbformat_minor": 2
}
